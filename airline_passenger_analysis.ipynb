{
 "cells": [
  {
   "cell_type": "markdown",
   "id": "01021756",
   "metadata": {},
   "source": [
    "**Python for Data Analysts**\n",
    "\n",
    "**Authors:** *Lucia Dini, Daniela Mayorga, Joo Han, Phenihas Krupa, Raviteja Dogiparthi*"
   ]
  },
  {
   "cell_type": "markdown",
   "id": "c5d65a6e",
   "metadata": {},
   "source": [
    "# Introduction to the Data Frame\n",
    "\n",
    "Understanding passenger satisfaction in the airline industry is crucial for airlines to enhance customer experience, improve loyalty and maintain a competitive advantage. The following database contains information on passenger satisfaction about various services offered during air travel and the information is broken down into class, customer type, flight distance, passenger satisfaction, and various service categories which were rated from 0 to 5. \n",
    "\n",
    "The database was retrieved from the \"Customer Satisfaction in Airline\" database page on Kaggle.com and contains data collected from a sample size of **129,880** customers. \n",
    "Link to Data Source: https://www.kaggle.com/datasets/yakhyojon/customer-satisfaction-in-airline/data"
   ]
  },
  {
   "cell_type": "markdown",
   "id": "3cb154e7",
   "metadata": {},
   "source": [
    "## Hypothesis\n",
    "\n",
    "Based on a first look at the dataset, and our personal experiences we hypothesize the following:\n",
    "- Seat comfort, customer type, and departure/arrival time convenience has the most positive influence and impact on customers' satisfaction with a flight. \n",
    "- We also hypothesize that age has no influence on satisfaction. \n",
    "- Lastly, the customers who bought Business class tickets would be more likely to have higher dissatisfaction rates than those who bought Economy class tickets.\n",
    "\n",
    "The aim of this analysis is then to clean the data, view which factors would increase the overall customers' satisfaction, and thus, conclude if our hypothesis proves to be correct."
   ]
  },
  {
   "cell_type": "markdown",
   "id": "70661482",
   "metadata": {},
   "source": [
    "## Metadata\n",
    "\n",
    "The source of this database does not directly specify any information regarding the data provided. Therefore based on other databases of a similar kind, logic, and personal experiences, we assigned the following metadata.\n",
    "\n",
    "| **Field Name**                  | **Description**                                  |\n",
    "|:---------------------------------|:-------------------------------------------------|\n",
    "| **satisfaction**                | Passenger satisfaction (satisfied/dissatisfied) |\n",
    "| **Customer Type**               | Type of customer (Loyal Customer/Disloyal Customer)|\n",
    "| **Age**                         | Passenger's age                                   |\n",
    "| **Type of Travel**              | Purpose of travel (Business travel)                |\n",
    "| **Class**                       | Class of travel (Business/Eco)                     |\n",
    "| **Flight Distance**             | Distance of the flight (in miles)                  |\n",
    "| **Seat comfort**                | Rating for seat comfort (0 to 5)                   |\n",
    "| **Departure/Arrival time convenient** | Rating for departure/arrival time convenience (0 to 5) |\n",
    "| **Food and drink**              | Rating for food and drink (0 to 5)                 |\n",
    "| **Gate location**               | Rating for gate location (0 to 5)                  |\n",
    "| **Inflight wifi service**       | Rating for inflight wifi service (0 to 5)          |\n",
    "| **Inflight entertainment**      | Rating for inflight entertainment (0 to 5)         |\n",
    "| **Online support**              | Rating for online support (0 to 5)                 |\n",
    "| **Ease of Online booking**      | Rating for ease of online booking (0 to 5)         |\n",
    "| **On-board service**            | Rating for on-board service (0 to 5)               |\n",
    "| **Leg room service**            | Rating for leg room service (0 to 5)               |\n",
    "| **Baggage handling**            | Rating for baggage handling (0 to 5)               |\n",
    "| **Checkin service**             | Rating for check-in service (0 to 5)               |\n",
    "| **Cleanliness**                 | Rating for cleanliness (0 to 5)                   |\n",
    "| **Online boarding**             | Rating for online boarding (0 to 5)               |\n",
    "| **Departure Delay in Minutes**  | Delay in departure time (in minutes)              |\n",
    "| **Arrival Delay in Minutes**    | Delay in arrival time (in minutes)                |\n",
    "\n",
    "\n",
    "Additionally, the following grading scale for values rated from 0 to 5 was used.\n",
    "\n",
    "| **Rating Value** | **Meaning**   |\n",
    "|:-----------------|:--------------|\n",
    "| **0**            | Very Poor      |\n",
    "| **1**            | Poor           |\n",
    "| **2**            | Neutral        |\n",
    "| **3**            | Fair           |\n",
    "| **4**            | Good           |\n",
    "| **5**            | Very Good      |\n"
   ]
  },
  {
   "cell_type": "markdown",
   "id": "0bfa960c",
   "metadata": {},
   "source": [
    "# Importing Packages, Libraries, and Data"
   ]
  },
  {
   "cell_type": "code",
   "execution_count": null,
   "id": "4e7eb0cc",
   "metadata": {},
   "outputs": [],
   "source": [
    "# Importing all libraries and packages\n",
    "\n",
    "import warnings\n",
    "warnings.filterwarnings(\"ignore\")  \n",
    "import matplotlib.pyplot as plt  \n",
    "import numpy as np  \n",
    "import pandas as pd \n",
    "import plotly.express as px\n",
    "import seaborn as sns\n",
    "from scipy import stats\n",
    "from matplotlib.colors import Normalize\n",
    "from scipy.stats import ttest_ind\n",
    "\n",
    "from sklearn.linear_model import LinearRegression\n",
    "from sklearn.linear_model import LogisticRegression\n",
    "from sklearn.preprocessing import PolynomialFeatures\n",
    "from sklearn.model_selection import train_test_split\n",
    "from sklearn.metrics import mean_squared_error\n",
    "from sklearn.metrics import classification_report, confusion_matrix\n",
    "from sklearn.preprocessing import LabelEncoder\n",
    "\n",
    "np.random.seed(42) "
   ]
  },
  {
   "cell_type": "code",
   "execution_count": null,
   "id": "3fea0eea",
   "metadata": {},
   "outputs": [],
   "source": [
    "# Importing Data\n",
    "\n",
    "data_path = \"./data/\" # Relative Path\n",
    "\n",
    "airline_filename = \"Invistico_Airline.csv\"\n",
    "\n",
    "airline_df_data = pd.read_csv(data_path + airline_filename)\n",
    "\n",
    "airline_df = airline_df_data.copy()"
   ]
  },
  {
   "cell_type": "markdown",
   "id": "bf1af829",
   "metadata": {},
   "source": [
    "# Data Cleaning"
   ]
  },
  {
   "cell_type": "markdown",
   "id": "730dbe68",
   "metadata": {},
   "source": [
    "## Changing Data Type"
   ]
  },
  {
   "cell_type": "code",
   "execution_count": null,
   "id": "012cf7b9",
   "metadata": {},
   "outputs": [],
   "source": [
    "# Viewing the format of the columns in the dataset\n",
    "\n",
    "airline_df.info()"
   ]
  },
  {
   "cell_type": "code",
   "execution_count": null,
   "id": "d4a4687c",
   "metadata": {},
   "outputs": [],
   "source": [
    "# First changing all columns that are categories into categories\n",
    "\n",
    "for x in ['satisfaction', 'Customer Type', 'Type of Travel', 'Class']:\n",
    "    airline_df[x]=airline_df[x].str.lower()\n",
    "    airline_df[x]=airline_df[x].astype('category')"
   ]
  },
  {
   "cell_type": "code",
   "execution_count": null,
   "id": "22b4c567",
   "metadata": {},
   "outputs": [],
   "source": [
    "# Changin all int64 into float64 for later calculations\n",
    "\n",
    "for col in airline_df :\n",
    "    if airline_df[col].dtypes == 'int64' :\n",
    "        airline_df[col]=airline_df[col].astype('float64')"
   ]
  },
  {
   "cell_type": "markdown",
   "id": "476b1886",
   "metadata": {},
   "source": [
    "**The dataset is now set up as the correct dtypes.**"
   ]
  },
  {
   "cell_type": "markdown",
   "id": "339ee6a9",
   "metadata": {},
   "source": [
    "## Checking and Removing NaN Values"
   ]
  },
  {
   "cell_type": "code",
   "execution_count": null,
   "id": "1995b3b4",
   "metadata": {},
   "outputs": [],
   "source": [
    "airline_df.isna().sum()"
   ]
  },
  {
   "cell_type": "markdown",
   "id": "09db71a9",
   "metadata": {},
   "source": [
    "**As shown above, there are 393 rows in \"Arrival Delay in Minutes\" that have NaN values**"
   ]
  },
  {
   "cell_type": "code",
   "execution_count": null,
   "id": "212f01d2",
   "metadata": {},
   "outputs": [],
   "source": [
    "# example of those that are missing values\n",
    "\n",
    "missing_data=airline_df[airline_df.isna().sum(axis=1)>0]\n",
    "missing_data.head()"
   ]
  },
  {
   "cell_type": "markdown",
   "id": "29e49605",
   "metadata": {},
   "source": [
    "**Since the NaN values are only 393 rows out of the original 129880 (~0.3%), we decided to just remove the data as the overall data loss in minimal**"
   ]
  },
  {
   "cell_type": "code",
   "execution_count": null,
   "id": "f3ae7e51",
   "metadata": {},
   "outputs": [],
   "source": [
    "airline_nonull = airline_df.dropna()"
   ]
  },
  {
   "cell_type": "code",
   "execution_count": null,
   "id": "aca1a36c",
   "metadata": {},
   "outputs": [],
   "source": [
    "# double checking to make sure dropna function worked\n",
    "airline_nonull.isna().sum()"
   ]
  },
  {
   "cell_type": "markdown",
   "id": "f900b7d3",
   "metadata": {},
   "source": [
    "## Checking and Removing Duplicates"
   ]
  },
  {
   "cell_type": "code",
   "execution_count": null,
   "id": "3a4fe450",
   "metadata": {},
   "outputs": [],
   "source": [
    "# Checking for duplicated values\n",
    "\n",
    "airline_df[airline_df.duplicated()]"
   ]
  },
  {
   "cell_type": "markdown",
   "id": "7ce7f011",
   "metadata": {},
   "source": [
    "**Thankfully, there are no duplicated values.**"
   ]
  },
  {
   "cell_type": "markdown",
   "id": "936f2c5a",
   "metadata": {},
   "source": [
    "## Checking and Removing Unexpected/Incorrect Data"
   ]
  },
  {
   "cell_type": "code",
   "execution_count": null,
   "id": "1ab66e84",
   "metadata": {},
   "outputs": [],
   "source": [
    "# First grab all the columns w/ numerical values\n",
    "\n",
    "numeric_airline_df = airline_df.select_dtypes(np.number)\n",
    "numeric_airline_df.head()"
   ]
  },
  {
   "cell_type": "code",
   "execution_count": null,
   "id": "00d83728",
   "metadata": {},
   "outputs": [],
   "source": [
    "# Using histogram to see if there are any visible errors and/or unexptected outliers\n",
    "numeric_airline_df.hist(figsize=(15,15));"
   ]
  },
  {
   "cell_type": "markdown",
   "id": "2d2069fb",
   "metadata": {},
   "source": [
    "**Based on the histogram above, the column \"Departure Delay in Minutes\" and \"Arrival Delay in Minutes\" seems to have a large outlier based by the fact that majority of the data is accumulated around 0-250 but the x-axis goes out to 1500.**"
   ]
  },
  {
   "cell_type": "code",
   "execution_count": null,
   "id": "88dcc8d9",
   "metadata": {},
   "outputs": [],
   "source": [
    "# This large outlier is further shown in the boxplot below\n",
    "\n",
    "outlier_col = ['Departure Delay in Minutes', 'Arrival Delay in Minutes']\n",
    "melted_df = pd.melt(airline_df, value_vars=outlier_col, var_name='Delay Type', value_name='Delay Time')\n",
    "\n",
    "# Create a box plot\n",
    "fig = px.box(melted_df, x='Delay Type', y='Delay Time', title=\"Departure and Arrival Delays\")\n",
    "# Remove comment on line below to see box plot\n",
    "#fig.show()"
   ]
  },
  {
   "cell_type": "markdown",
   "id": "4f9e53ba",
   "metadata": {},
   "source": [
    "**To remove outliers in the two columns, we use the lambda function to keep the flights shorter than 240 minutes (4 hours) as any delay above 4 hours is considered a canceled flight (source,year). Thus, we remove customer's who may have not flown but still gave a review. This is important as they should not be considered in the analysis as their satisfaction would be heavily biased**"
   ]
  },
  {
   "cell_type": "code",
   "execution_count": null,
   "id": "43aeba8e",
   "metadata": {},
   "outputs": [],
   "source": [
    "airline_df[outlier_col] = airline_df[outlier_col].applymap(lambda x: x if x < 240 else np.nan)"
   ]
  },
  {
   "cell_type": "code",
   "execution_count": null,
   "id": "0039d745",
   "metadata": {},
   "outputs": [],
   "source": [
    "# Replotting the histogram for the Delay columns, we see a few more values \n",
    "delay = airline_df[outlier_col]\n",
    "delay.hist(figsize=(10,5));"
   ]
  },
  {
   "cell_type": "markdown",
   "id": "1a633387",
   "metadata": {},
   "source": [
    "**After the removing the outliers from the columns, the data stil suggests a heavy right skew; however, we are able to view more of the distribution as well as removing any biased data.**"
   ]
  },
  {
   "cell_type": "code",
   "execution_count": null,
   "id": "b150b991",
   "metadata": {},
   "outputs": [],
   "source": [
    "# However, we have created new NaN values, shown below\n",
    "airline_df.isna().sum()"
   ]
  },
  {
   "cell_type": "markdown",
   "id": "786125ba",
   "metadata": {},
   "source": [
    "**The total NaN values then becomes 1213 rows. After the initial dropna function we were left with 129487. Thus, we removed an addtional 1213 rows as the decrease of 0.94% is minimal.**"
   ]
  },
  {
   "cell_type": "code",
   "execution_count": null,
   "id": "354ef7c5",
   "metadata": {},
   "outputs": [],
   "source": [
    "airline_dropped_outlier = airline_df.dropna()\n",
    "airline_df = airline_dropped_outlier\n",
    "airline_df.isna().sum()"
   ]
  },
  {
   "cell_type": "markdown",
   "id": "29fc8da2",
   "metadata": {},
   "source": [
    "**Now we check to make sure there are no unexpected values**"
   ]
  },
  {
   "cell_type": "code",
   "execution_count": null,
   "id": "7e2759b5",
   "metadata": {},
   "outputs": [],
   "source": [
    "# creating a sub-table with columns that are expected to have values between 0 and 5\n",
    "scale_col = airline_df.iloc[:,6:20]\n",
    "\n",
    "def check_val(col) :\n",
    "    return (col < 0) | (col > 5)\n",
    "\n",
    "filtered_scale = scale_col.apply(check_val, axis = 1)\n",
    "rows_with_true = airline_df[filtered_scale.any(axis=1)]\n",
    "rows_with_true"
   ]
  },
  {
   "cell_type": "markdown",
   "id": "139b9ea6",
   "metadata": {},
   "source": [
    "**Based on the empty table above, we can conclude that all the values in the sub-table are between 0 and 5.**"
   ]
  },
  {
   "cell_type": "markdown",
   "id": "86793027",
   "metadata": {},
   "source": [
    "**We now check the categorical columns so that they only contain expected values.**"
   ]
  },
  {
   "cell_type": "code",
   "execution_count": null,
   "id": "ca6c6805",
   "metadata": {},
   "outputs": [],
   "source": [
    "# First creating a sub-table that only includes category dtype columns\n",
    "cat_col = airline_df.select_dtypes(include='category')\n",
    "cat_col.head()"
   ]
  },
  {
   "cell_type": "code",
   "execution_count": null,
   "id": "a1a569a2",
   "metadata": {},
   "outputs": [],
   "source": [
    "# Checking all categorical columns for unique values\n",
    "for col in cat_col :\n",
    "    print(airline_df[col].unique())"
   ]
  },
  {
   "cell_type": "markdown",
   "id": "84c47c96",
   "metadata": {},
   "source": [
    "**As shown above, all the categorical columns only include categories that are to be expected.**"
   ]
  },
  {
   "cell_type": "markdown",
   "id": "53f64fcc",
   "metadata": {},
   "source": [
    "# EDA"
   ]
  },
  {
   "cell_type": "markdown",
   "id": "283e6937",
   "metadata": {},
   "source": [
    "## Demographic"
   ]
  },
  {
   "cell_type": "markdown",
   "id": "1639fd36",
   "metadata": {},
   "source": [
    "### Age "
   ]
  },
  {
   "cell_type": "code",
   "execution_count": null,
   "id": "d8036a78",
   "metadata": {},
   "outputs": [],
   "source": [
    "bins = [0, 10, 14, 18, 30, 40, 50, 60, 70,float('inf')]\n",
    "labels = ['Child (0-10)', 'Pre-Teen (10-14)', \n",
    "          'Teenager (14-18)', 'Young Adult (18-30)', \n",
    "          'Adult (30-40)', 'Middle Aged (40-50)', \n",
    "          'Senior (50-60)', 'Elderly (60-70)', \n",
    "          'Very Elderly (70+)']"
   ]
  },
  {
   "cell_type": "code",
   "execution_count": null,
   "id": "1fb51748",
   "metadata": {},
   "outputs": [],
   "source": [
    "airline_df['Age Group'] = pd.cut(airline_df['Age'], bins=bins, labels=labels)\n",
    "grouped = airline_df.groupby(['Age Group', 'satisfaction']).size().unstack(fill_value=0) # Any missing value = 0\n",
    "grouped"
   ]
  },
  {
   "cell_type": "code",
   "execution_count": null,
   "id": "040ed1a2",
   "metadata": {},
   "outputs": [],
   "source": [
    "plt.title('Participants per age group')\n",
    "age_group = grouped.sum(axis = 1).plot(kind = 'bar')\n",
    "for p in age_group.patches:\n",
    "    age_group.annotate(str(p.get_height()), (p.get_x() + p.get_width() / 2., p.get_height()),\n",
    "                ha='center', va='center', xytext=(0, 5), textcoords='offset points')\n",
    "plt.ylabel('Frequency')\n",
    "plt.show()"
   ]
  },
  {
   "cell_type": "markdown",
   "id": "97e1180e",
   "metadata": {},
   "source": [
    "**As we can see the age demographic spread is mostly between the age of 18 and 60. Ages that are below 18, and possibly ages 60+, would be individuals who flew with their legal guardian, parent, or caretaker and still completed the survey.**"
   ]
  },
  {
   "cell_type": "markdown",
   "id": "2b842233",
   "metadata": {},
   "source": [
    "### Overall Satisfaction Distribution"
   ]
  },
  {
   "cell_type": "code",
   "execution_count": null,
   "id": "b6548af9",
   "metadata": {},
   "outputs": [],
   "source": [
    "# Counting the total number of satisfied and dissatisfied passengers\n",
    "satisfaction_counts = airline_df['satisfaction'].value_counts()\n",
    "\n",
    "# Plotting the total count into a pie chart\n",
    "fig, ax = plt.subplots(figsize=(8, 8))\n",
    "wedges, texts, autotexts = ax.pie(satisfaction_counts, labels=satisfaction_counts.index, autopct=lambda p: '{:.0f} ({:.1f}%)'.format(p * sum(satisfaction_counts) / 100, p),\n",
    "                                  startangle=90, colors=['lightgreen', 'lightcoral'], textprops=dict(color=\"k\"))\n",
    "plt.setp(autotexts, size=10, weight=\"bold\")\n",
    "plt.title('Customer Satisfaction Distribution')\n",
    "plt.show()"
   ]
  },
  {
   "cell_type": "markdown",
   "id": "be66e24c",
   "metadata": {},
   "source": [
    "**Given the cleaned data, we see the overall split between the customers who were satisfied and dissatisfied. As we can see, there were 70,637 satisfied customers and 58,192 dissatisfied.**"
   ]
  },
  {
   "cell_type": "markdown",
   "id": "fba79a6b",
   "metadata": {},
   "source": [
    "### Customer Class vs Type of Travel"
   ]
  },
  {
   "cell_type": "code",
   "execution_count": null,
   "id": "23be5736",
   "metadata": {},
   "outputs": [],
   "source": [
    "grouped_class = airline_df.groupby(['Type of Travel', 'Class']).size().unstack(fill_value=0) # Any missing value = 0\n",
    "proportions_class = grouped_class.div(grouped_class.sum(axis=1), axis=0)\n",
    "grouped_perc = grouped_class * 100\n",
    "pclass = grouped_perc.div(grouped_class.sum(axis=1), axis=0).plot(kind='bar', stacked=True, figsize=(15, 8))\n",
    "\n",
    "# Assigning the percentage per container in stacked bra chart\n",
    "for container in pclass.containers:\n",
    "    pclass.bar_label(container, fmt='%.1f%%', label_type='center', fontsize=15, color='white')\n",
    "pclass.set_yticks(range(0, 101, 10))\n",
    "pclass.set_yticklabels([f'{i}%' for i in range(0, 101, 10)])\n",
    "pclass.set_xticklabels(pclass.get_xticklabels(), rotation = 0)\n",
    "pclass.set_title('Customer Type of Travel vs Flight Class')\n",
    "plt.show"
   ]
  },
  {
   "cell_type": "markdown",
   "id": "43d06004",
   "metadata": {},
   "source": [
    "**As we can see we see that the demographic of customers who are traveling for business fly in business class 66.3% of the time. On the otherhand, 82.1% of customers fly economy class when flying for personal travel.**"
   ]
  },
  {
   "cell_type": "markdown",
   "id": "800ba45d",
   "metadata": {},
   "source": [
    "## Correlation Analysis"
   ]
  },
  {
   "cell_type": "markdown",
   "id": "4d66481c",
   "metadata": {},
   "source": [
    "### Changing to Numerical"
   ]
  },
  {
   "cell_type": "code",
   "execution_count": null,
   "id": "ade886f5",
   "metadata": {},
   "outputs": [],
   "source": [
    "#coverting all the categorical columns into numerical values\n",
    "satis_dict = {'satisfied':1, 'dissatisfied':0}\n",
    "type_dict = {'disloyal customer':0, 'loyal customer':1}\n",
    "class_dict = {'eco':0, 'eco plus':1, 'business':2}\n",
    "travel_dict = {'personal travel': 0, 'business travel':1}\n",
    "\n",
    "#copying the data set into a new set and adding the converted numerical categories \n",
    "airline_df_num = airline_df.copy()\n",
    "\n",
    "airline_df_num['satisfaction'] = airline_df_num['satisfaction'].replace(satis_dict).astype('float64')\n",
    "airline_df_num['Customer Type'] = airline_df_num['Customer Type'].replace(type_dict).astype('float64')\n",
    "airline_df_num['Class'] = airline_df_num['Class'].replace(class_dict).astype('float64')\n",
    "airline_df_num['Type of Travel'] = airline_df_num['Type of Travel'].replace(travel_dict).astype('float64')\n",
    "\n",
    "airline_df_num.head()"
   ]
  },
  {
   "cell_type": "markdown",
   "id": "4589322d",
   "metadata": {},
   "source": [
    "**Based of the above new data-set we can conclude that it consist of only numerical values, which can now be used to find correlations between each column.**"
   ]
  },
  {
   "cell_type": "markdown",
   "id": "a63058d2",
   "metadata": {},
   "source": [
    "### Correlation Matrix"
   ]
  },
  {
   "cell_type": "code",
   "execution_count": null,
   "id": "f3cf942d",
   "metadata": {},
   "outputs": [],
   "source": [
    "corr_survey=airline_df_num.select_dtypes(np.number).corr()\n",
    "levels_corr=np.zeros(shape=corr_survey.shape)\n",
    "\n",
    "levels=np.arange(-3,4)\n",
    "ranges=[(-1,-0.7),(-0.7,-0.4),(-0.4,-0.1),(-0.1,0.1),(0.1,0.3),(0.3,0.7),(0.7,1)]\n",
    "\n",
    "for i,r in enumerate(ranges):\n",
    "    lower,upper=r\n",
    "    levels_corr[(corr_survey>=lower) & (corr_survey<upper)] =levels[i]\n",
    "\n",
    "levels_corr=pd.DataFrame(data=levels_corr,index=corr_survey.index,columns=corr_survey.columns)\n",
    "\n",
    "norm = Normalize(vmin=-3, vmax=3)\n",
    "\n",
    "plt.figure(figsize=(15,15))\n",
    "sns.heatmap(levels_corr, annot=True, cmap='vlag', norm = norm);"
   ]
  },
  {
   "cell_type": "markdown",
   "id": "e532ae3c",
   "metadata": {},
   "source": [
    "| Correlation Value | Interpretation               |\n",
    "|-------------------|------------------------------|\n",
    "| +3      | Strong positive correlation  |\n",
    "| +2      | Moderate positive correlation|\n",
    "| +1      | Weak positive correlation    |\n",
    "| 0         | No linear correlation        |\n",
    "| -1       | Weak negative correlation    |\n",
    "| -2       | Moderate negative correlation|\n",
    "| -3       | Strong negative correlation  |\n",
    "\n",
    "**Based on this correlation matrix, we find that satisfaction has moderate correlations (=2) with class, inflight entertainment, online support, ease of online booking, on-board service, leg room, and online boarding.**\n",
    "\n",
    "**Other interesting findings include that seat comfort and food & drink are variables that are highly correlated (=3) and that the delays are highly correlated as well.**\n",
    "\n",
    "**Finally, we are able to disapprove our first hypothesis that Seat comfort, customer type, and departure/arrival time convenience has the most positive influence and impact on customers' satisfaction as these factors had low to no correlation with satisfaction.**"
   ]
  },
  {
   "cell_type": "markdown",
   "id": "c8c0c7f4",
   "metadata": {},
   "source": [
    "## T-Test"
   ]
  },
  {
   "cell_type": "markdown",
   "id": "ee4ea2a7",
   "metadata": {},
   "source": [
    "### Comparing Satisfied and Dissatisfied Customers"
   ]
  },
  {
   "cell_type": "code",
   "execution_count": null,
   "id": "afa16933",
   "metadata": {},
   "outputs": [],
   "source": [
    "# seperating dataset into satisfied and dissatisfied\n",
    "\n",
    "airline_df_num_diss = airline_df_num[airline_df_num['satisfaction'] == 0].select_dtypes(np.number)\n",
    "airline_df_num_satis = airline_df_num[airline_df_num['satisfaction'] == 1].select_dtypes(np.number)"
   ]
  },
  {
   "cell_type": "code",
   "execution_count": null,
   "id": "51cfcf24",
   "metadata": {},
   "outputs": [],
   "source": [
    "# satisfied descriptive statistics\n",
    "\n",
    "airline_df_num_satis.describe()"
   ]
  },
  {
   "cell_type": "code",
   "execution_count": null,
   "id": "facb51be",
   "metadata": {},
   "outputs": [],
   "source": [
    "# dissatisfied descriptive statistics\n",
    "\n",
    "airline_df_num_diss.describe()"
   ]
  },
  {
   "cell_type": "markdown",
   "id": "aa625708",
   "metadata": {},
   "source": [
    "***Comparing Satisfied and Dissatisfied Customers***\n",
    "\n",
    "**The two tables shown above depicts the descriptive statistics for each aspect of airline service.\n",
    "For nearly every aspect, satisfied passengers tend to give higher mean ratings compared to dissatisfied passengers.\n",
    "Lower mean ratings for dissatisfied passengers indicate potential areas of concern that may require attention to improve overall passenger satisfaction.\n",
    "In summary, the table/graph provides insights into how different aspects of airline services contribute to passenger satisfaction levels. The information can guide airlines in identifying specific areas for improvement to enhance the overall customer experience.**"
   ]
  },
  {
   "cell_type": "code",
   "execution_count": null,
   "id": "0597a69c",
   "metadata": {},
   "outputs": [],
   "source": [
    "t_statistic, p_value = stats.ttest_ind(airline_df_num_satis, airline_df_num_diss)\n",
    "alpha = 0.05  # significance level\n",
    "\n",
    "for val in p_value : \n",
    "    if val < alpha:\n",
    "        print(\"Reject the null hypothesis\")\n",
    "    else:\n",
    "        print(\"Fail to reject the null hypothesis\")"
   ]
  },
  {
   "cell_type": "markdown",
   "id": "036b30ae",
   "metadata": {},
   "source": [
    "**The output reveals that the null hypothesis is rejected for every tested column. This implies that for each variable examined, there are statistically significant differences between the two groups (satisfied and dissatisfied).**\n",
    "\n",
    "**In summary, the output suggests that there are statistically significant variations between the variables in the dataset when comparing the satisfied and dissatisfied groups. Additionally, the reference to a trend in the correlation matrix and descriptive statistical table implies that variables with moderate correlation also exhibit differences in average scores between the dissatisfied and satisfied groups.**"
   ]
  },
  {
   "cell_type": "markdown",
   "id": "e3126417",
   "metadata": {},
   "source": [
    "## Closer Look into Correlated Variables"
   ]
  },
  {
   "cell_type": "markdown",
   "id": "2dcece6c",
   "metadata": {},
   "source": [
    "### Class"
   ]
  },
  {
   "cell_type": "code",
   "execution_count": null,
   "id": "1d36e9f6",
   "metadata": {},
   "outputs": [],
   "source": [
    "# Comparison btwn class and whether or not customer is satisfied or dissatisfied\n",
    "grouped_class = airline_df.groupby(['Class', 'satisfaction']).size().unstack(fill_value=0)\n",
    "grouped_perc = grouped_class * 100\n",
    "pclass = grouped_perc.div(grouped_class.sum(axis=1), axis=0).plot(kind='bar', stacked=True, figsize=(15, 8))\n",
    "\n",
    "# Assigning the percentage per container in stacked bra chart\n",
    "for container in pclass.containers:\n",
    "    pclass.bar_label(container, fmt='%.1f%%', label_type='center', fontsize=15, color='white')\n",
    "pclass.set_yticks(range(0, 101, 10))\n",
    "pclass.set_yticklabels([f'{i}%' for i in range(0, 101, 10)])\n",
    "\n",
    "plt.show()"
   ]
  },
  {
   "cell_type": "markdown",
   "id": "ef03de42",
   "metadata": {},
   "source": [
    "**According to this bar graph it disproves our hypothesis as it suggests that business class customers have a higher percentage satisfaction than economy and economy plus.**"
   ]
  },
  {
   "cell_type": "markdown",
   "id": "929273eb",
   "metadata": {},
   "source": [
    "### Other Correlated Variables"
   ]
  },
  {
   "cell_type": "code",
   "execution_count": null,
   "id": "e2fc7a0b",
   "metadata": {},
   "outputs": [],
   "source": [
    "# Filtering for satisfied passengers \n",
    "airline_df_satisf = airline_df[airline_df['satisfaction'] == 'satisfied']\n",
    "\n",
    "# Selecting relevant columns\n",
    "service_category = ['Inflight entertainment', 'Online support', 'Ease of Online booking',\n",
    "                    'On-board service', 'Leg room service', 'Online boarding']\n",
    "\n",
    "# Creating a new function that changes the numerical rating into categories\n",
    "def categorize_ratings(ratings):\n",
    "    if ratings <= 1:\n",
    "        return 'Unhappy with Category'\n",
    "    elif 1 < ratings <= 3:\n",
    "        return 'Neutral'\n",
    "    else:\n",
    "        return 'Happy with Category'\n",
    "\n",
    "# Creating new categorical columns for satisfaction for each service category\n",
    "for category in service_category:\n",
    "    satisfaction_column = f'{category} satisfaction'\n",
    "    airline_df_satisf[satisfaction_column] = airline_df_satisf[category].apply(categorize_ratings)\n",
    "\n",
    "# Plotting multiple pie charts, one for each service category\n",
    "fig, axs = plt.subplots(2, 3, figsize=(15, 8))\n",
    "fig.suptitle('Count of Ratings for each Category based on satisfied passengers')\n",
    "\n",
    "# Storing legends for later use\n",
    "legends = []\n",
    "\n",
    "for i, category in enumerate(service_category):\n",
    "    satisfaction_column = f'{category} satisfaction'\n",
    "    data = airline_df_satisf.groupby(satisfaction_column).size()\n",
    "\n",
    "    ax = axs[i // 3, i % 3]\n",
    "    wedges, _, autotexts = ax.pie(data, autopct='%1.1f%%', startangle=90, colors=['lightgreen', 'lightgrey', 'lightcoral'])\n",
    "    ax.set_title(category)\n",
    "\n",
    "    # Adding a border around the wedges for better separation\n",
    "    for wedge in wedges:\n",
    "        wedge.set_edgecolor('white')\n",
    "    plt.setp(autotexts, size=8, weight=\"bold\")\n",
    "\n",
    "    # Storing legends for the first pie chart\n",
    "    if i == 0:\n",
    "        legend_labels = data.index\n",
    "        legend = plt.legend(wedges, legend_labels, title='Satisfaction', loc=\"center left\", bbox_to_anchor=(1, 0, 0.5, 1))\n",
    "        legends.append(legend)\n",
    "\n",
    "# Adjusting layout to include the common legend\n",
    "plt.tight_layout(rect=[0, 0, 0, 1])\n",
    "\n",
    "# Displaying the common legend without total count\n",
    "fig.legend(legends[0].legendHandles, [label.get_text() for label in legends[0].get_texts()], title='Satisfaction', loc='center right')\n",
    "\n",
    "plt.show()"
   ]
  },
  {
   "cell_type": "code",
   "execution_count": null,
   "id": "d171e2e1",
   "metadata": {},
   "outputs": [],
   "source": [
    "# Filtering for dissatisfied passenegrs\n",
    "airline_df_disat = airline_df[airline_df['satisfaction'] == 'dissatisfied']\n",
    "\n",
    "# Creating new categorical columns for satisfaction for each service category\n",
    "for category in service_category:\n",
    "    satisfaction_column = f'{category} satisfaction'\n",
    "    airline_df_disat[satisfaction_column] = airline_df_disat[category].apply(categorize_ratings)\n",
    "\n",
    "# Plotting multiple pie charts, one for each service category\n",
    "fig, axs = plt.subplots(2, 3, figsize=(15, 8))\n",
    "fig.suptitle('Count of Ratings for each Category based on disatisfied passengers')\n",
    "\n",
    "# Storing legends for later use\n",
    "legends = []\n",
    "\n",
    "for i, category in enumerate(service_category):\n",
    "    satisfaction_column = f'{category} satisfaction'\n",
    "    data = airline_df_disat.groupby(satisfaction_column).size()\n",
    "\n",
    "    ax = axs[i // 3, i % 3]\n",
    "    wedges, _, autotexts = ax.pie(data, autopct='%1.1f%%', startangle=90, colors=['lightgreen', 'lightgrey', 'lightcoral'])\n",
    "    ax.set_title(category)\n",
    "\n",
    "    # Adding a border around the wedges for better separation\n",
    "    for wedge in wedges:\n",
    "        wedge.set_edgecolor('white')\n",
    "    plt.setp(autotexts, size=8, weight=\"bold\")\n",
    "\n",
    "    # Storing legends for the first pie chart\n",
    "    if i == 0:\n",
    "        legend_labels = data.index\n",
    "        legend = plt.legend(wedges, legend_labels, title='Satisfaction', loc=\"center left\", bbox_to_anchor=(1, 0, 0.5, 1))\n",
    "        legends.append(legend)\n",
    "\n",
    "# Adjusting layout to include the common legend\n",
    "plt.tight_layout(rect=[0, 0, 0, 1])\n",
    "\n",
    "# Displaying the common legend without total count\n",
    "fig.legend(legends[0].legendHandles, [label.get_text() for label in legends[0].get_texts()], title='Satisfaction', loc='center right')\n",
    "\n",
    "plt.show()"
   ]
  },
  {
   "cell_type": "markdown",
   "id": "f3208dec",
   "metadata": {},
   "source": [
    "| Rating Range | Meaning               |\n",
    "|-------------------|------------------------------|\n",
    "| 0-1      | Unhappy with Category  |\n",
    "| 2-3      | Neutral|\n",
    "| 4-5      | Happy with Category    |\n",
    "\n",
    "**From the two pie charts above, it can be derived that the majority of passengers who reported to be overall dissatisfied with the flight, was not unhappy with the correlated categories but instead had a neutral response. This may suggest that a neutral response to a category leans more towards an overall dissatisfied rating. On the other hand, majority of the response for those satisfied with the flight were happy with the category.**\n",
    "\n",
    "**We then suggest that future surveys take note of the trend that a rating of 0-3 may still beget a dissatisfaction with the overall flight.**\n"
   ]
  },
  {
   "cell_type": "markdown",
   "id": "85610321",
   "metadata": {},
   "source": [
    "# Conclusion"
   ]
  },
  {
   "cell_type": "markdown",
   "id": "3339c4eb",
   "metadata": {},
   "source": [
    "**The consumer survey provides insights to enhance the aviation industry's customer experience, revealing overall satisfaction. Our hypothesis regarding seat comfort, customer type, and departure/arrival time having positive correlations with satisfaction was proven negligible (low to no correlation coefficient). Furthermore, in contrary to our expectations, business-class ticket holders exhibit higher satisfaction, challenging assumptions about dissatisfaction among higher-paying customers. Finally, the analysis supports our hypothesis that age has no influence/impact on satisfaction.**\n",
    "\n",
    "**Moderate positive correlations are evident between satisfaction and service class, online support, booking ease, and online boarding. Thus, we emphasize improving our online services as it may aid in increasing overall satisfaction as well as being relatively easier to do. Additionally, a similar moderate positive correlation was shown between satisfaction and on-board services, legroom, and inflight entertainment which can also be improved over time as long-term investments.**\n",
    "\n",
    "**In summary, a two-pronged approach addressing short and long-term factors, grounded in strong customer relationships, positions the airline for consistently satisfying customer experiences. Balancing swift service upgrades with enduring product investments targeting fundamental satisfaction drivers is key.**"
   ]
  },
  {
   "cell_type": "code",
   "execution_count": null,
   "id": "1ca4016a",
   "metadata": {},
   "outputs": [],
   "source": []
  }
 ],
 "metadata": {
  "kernelspec": {
   "display_name": "Python 3 (ipykernel)",
   "language": "python",
   "name": "python3"
  },
  "language_info": {
   "codemirror_mode": {
    "name": "ipython",
    "version": 3
   },
   "file_extension": ".py",
   "mimetype": "text/x-python",
   "name": "python",
   "nbconvert_exporter": "python",
   "pygments_lexer": "ipython3",
   "version": "3.11.5"
  },
  "toc": {
   "base_numbering": 1,
   "nav_menu": {},
   "number_sections": true,
   "sideBar": true,
   "skip_h1_title": false,
   "title_cell": "Table of Contents",
   "title_sidebar": "Contents",
   "toc_cell": false,
   "toc_position": {},
   "toc_section_display": true,
   "toc_window_display": false
  },
  "varInspector": {
   "cols": {
    "lenName": 16,
    "lenType": 16,
    "lenVar": 40
   },
   "kernels_config": {
    "python": {
     "delete_cmd_postfix": "",
     "delete_cmd_prefix": "del ",
     "library": "var_list.py",
     "varRefreshCmd": "print(var_dic_list())"
    },
    "r": {
     "delete_cmd_postfix": ") ",
     "delete_cmd_prefix": "rm(",
     "library": "var_list.r",
     "varRefreshCmd": "cat(var_dic_list()) "
    }
   },
   "types_to_exclude": [
    "module",
    "function",
    "builtin_function_or_method",
    "instance",
    "_Feature"
   ],
   "window_display": false
  }
 },
 "nbformat": 4,
 "nbformat_minor": 5
}
